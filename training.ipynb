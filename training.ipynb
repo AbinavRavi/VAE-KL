{
 "cells": [
  {
   "cell_type": "code",
   "execution_count": 11,
   "metadata": {},
   "outputs": [],
   "source": [
    "from dataloader import *\n",
    "from model import *\n",
    "import numpy as np\n",
    "import torch\n",
    "from torch.utils.tensorboard import SummaryWriter\n",
    "import torch.nn as nn\n",
    "import torch.nn.functional as F\n",
    "from tqdm import tqdm_notebook\n",
    "from torch.utils.data import DataLoader\n",
    "from loss import *"
   ]
  },
  {
   "cell_type": "markdown",
   "metadata": {},
   "source": [
    "### Let us Load the data"
   ]
  },
  {
   "cell_type": "code",
   "execution_count": 5,
   "metadata": {},
   "outputs": [],
   "source": [
    "dataset_args = {\n",
    "    \"path\": './data/',\n",
    "    \"patchsize\": (64,64),\n",
    "    \"margin\":(80,80)\n",
    "}"
   ]
  },
  {
   "cell_type": "code",
   "execution_count": 6,
   "metadata": {},
   "outputs": [],
   "source": [
    "dataloader_args = {\n",
    "    \"batch_size\":16,\n",
    "    \"num_workers\":1\n",
    "}"
   ]
  },
  {
   "cell_type": "code",
   "execution_count": 10,
   "metadata": {},
   "outputs": [],
   "source": [
    "traindata = cevae(**dataset_args)\n",
    "train_loader = DataLoader(traindata,**dataloader_args)"
   ]
  },
  {
   "cell_type": "code",
   "execution_count": null,
   "metadata": {},
   "outputs": [],
   "source": [
    "device = torch.device(\"cuda\" if torch.cuda.is_available() else \"cpu\")\n",
    "\n",
    "def train(epoch, model, optimizer, train_loader, device, tx, log_var_std, lamda=0.5, beta=1.0):\n",
    "    model.train()\n",
    "    train_loss = 0\n",
    "    for batch_idx, data in enumerate(train_loader):\n",
    "        data = inpt,inpt_noisy\n",
    "        inpt = inpt.to(device)\n",
    "        inpt_noisy = inpt_noisy.to(device)\n",
    "\n",
    "        optimizer.zero_grad()\n",
    "        x_rec_vae, z_dist, = model(inpt)\n",
    "        x_rec_ce = model(inpt_noisy)\n",
    "\n",
    "        # kl_loss_low = kl_loss(z_dist_low)\n",
    "        kl_loss = kl_loss_fn(z_dist)\n",
    "        rec_loss_vae = rec_loss_fn(x_rec_vae, inpt)\n",
    "        loss_vae = kl_loss * beta + rec_loss_vae\n",
    "\n",
    "        rec_loss_ce = rec_loss_fn(x_rec_ce, inpt)\n",
    "\n",
    "        loss_ce = rec_loss_ce\n",
    "\n",
    "        loss = (1. - lamda) * loss_vae + lamda * loss_ce\n",
    "\n",
    "        loss.backward()\n",
    "        train_loss += loss.item()\n",
    "        optimizer.step()\n"
   ]
  }
 ],
 "metadata": {
  "kernelspec": {
   "display_name": "Python 3",
   "language": "python",
   "name": "python3"
  },
  "language_info": {
   "codemirror_mode": {
    "name": "ipython",
    "version": 3
   },
   "file_extension": ".py",
   "mimetype": "text/x-python",
   "name": "python",
   "nbconvert_exporter": "python",
   "pygments_lexer": "ipython3",
   "version": "3.6.8"
  }
 },
 "nbformat": 4,
 "nbformat_minor": 2
}
