{
 "cells": [
  {
   "cell_type": "code",
   "execution_count": 1,
   "metadata": {},
   "outputs": [],
   "source": [
    "from old_model import *\n",
    "from dataloader import *\n",
    "from cevae_dataloader import *\n",
    "from loss import *\n",
    "import numpy as np\n",
    "import torch\n",
    "import torch.optim as optim\n",
    "from torch.optim.lr_scheduler import StepLR\n",
    "from tqdm import tqdm\n",
    "import pdb\n",
    "import matplotlib.pyplot as plt"
   ]
  },
  {
   "cell_type": "code",
   "execution_count": 2,
   "metadata": {},
   "outputs": [],
   "source": [
    "device = torch.device(\"cuda\" if torch.cuda.is_available() else \"cpu\")\n",
    "\n",
    "def set_seed(seed=1):\n",
    "    torch.manual_seed(seed)\n",
    "    torch.cuda.manual_seed(seed)\n",
    "    np.random.seed(seed)"
   ]
  },
  {
   "cell_type": "code",
   "execution_count": 3,
   "metadata": {},
   "outputs": [],
   "source": [
    "set_seed(1)"
   ]
  },
  {
   "cell_type": "code",
   "execution_count": 4,
   "metadata": {},
   "outputs": [],
   "source": [
    "path = './all_normal/'\n",
    "ab_path = './All_abnormal/'\n",
    "patchsize = (64,64)\n",
    "margin = (80,80)\n",
    "batch_size = 1\n",
    "num_workers = 1"
   ]
  },
  {
   "cell_type": "code",
   "execution_count": 5,
   "metadata": {},
   "outputs": [],
   "source": [
    "model = torch.load('VAE_models/VAE_1024_0.0001_596.pt',map_location=device)"
   ]
  },
  {
   "cell_type": "code",
   "execution_count": 6,
   "metadata": {},
   "outputs": [],
   "source": [
    "testNormal = cevae(path,patchsize,margin)\n",
    "testAb = cevae(ab_path,patchsize,margin)\n",
    "testNormalLoader = DataLoader(testNormal,batch_size=batch_size,num_workers=num_workers)\n",
    "testAbnormalLoader = DataLoader(testAb,batch_size=batch_size,num_workers=num_workers)"
   ]
  },
  {
   "cell_type": "code",
   "execution_count": 7,
   "metadata": {},
   "outputs": [],
   "source": [
    "model.eval()\n",
    "test_loss = []\n",
    "kl_loss = []\n",
    "rec_loss = []\n",
    "for idx, data in enumerate(testNormalLoader):\n",
    "    data = data.to(device)\n",
    "    recon, mu,logstd = model(data)\n",
    "    combi_loss,rec,kl = kl_loss_fn(recon,data,mu,logstd)\n",
    "    combi_loss,rec,kl = combi_loss.detach().cpu().numpy(),rec.detach().cpu().numpy(),kl.detach().cpu().numpy()\n",
    "    test_loss.append(combi_loss)\n",
    "    kl_loss.append(kl)\n",
    "    rec_loss.append(rec)"
   ]
  },
  {
   "cell_type": "code",
   "execution_count": 8,
   "metadata": {},
   "outputs": [],
   "source": [
    "model.eval()\n",
    "test_loss_ab = []\n",
    "kl_loss_ab = []\n",
    "rec_loss_ab = []\n",
    "for idx,abdata in enumerate(testAbnormalLoader):\n",
    "    abdata = abdata.to(device)\n",
    "    recon_ab, mu_ab, logstd_ab = model(abdata)\n",
    "    combi_loss_ab, rec_ab,kl_ab = kl_loss_fn(recon_ab,abdata,mu_ab,logstd_ab)\n",
    "    combi_loss_ab, rec_ab,kl_ab = combi_loss_ab.detach().cpu().numpy(),rec_ab.detach().cpu().numpy(),kl_ab.detach().cpu().numpy()\n",
    "    test_loss_ab.append(combi_loss_ab)\n",
    "    kl_loss_ab.append(kl_ab)\n",
    "    rec_loss_ab.append(rec_ab)"
   ]
  },
  {
   "cell_type": "code",
   "execution_count": 9,
   "metadata": {},
   "outputs": [],
   "source": [
    "import sklearn.metrics as sk\n",
    "def auroc_metric(_pos,_neg):\n",
    "#     def get_auroc(_pos, _neg):\n",
    "    pos = np.array(_pos[:]).reshape((-1, 1))\n",
    "    neg = np.array(_neg[:]).reshape((-1, 1))\n",
    "    examples = np.squeeze(np.vstack((pos, neg)))\n",
    "    labels = np.zeros(len(examples), dtype=np.int32)\n",
    "    labels[:len(pos)] += 1\n",
    "\n",
    "    auroc = sk.roc_auc_score(labels, examples)\n",
    "    aupr = sk.precision_recall_curve(labels,examples)\n",
    "    auroc_curve = sk.roc_curve(labels,examples)\n",
    "    return auroc,aupr,auroc_curve"
   ]
  },
  {
   "cell_type": "code",
   "execution_count": 10,
   "metadata": {},
   "outputs": [],
   "source": [
    "aur_combi,combi_pr,combi_aur = auroc_metric(test_loss_ab,test_loss)\n",
    "aur_kl,kl_pr,kl_aur = auroc_metric(kl_loss_ab,kl_loss)\n",
    "aur_rec,rec_pr,rec_aur = auroc_metric(rec_loss_ab,rec_loss)"
   ]
  },
  {
   "cell_type": "code",
   "execution_count": 11,
   "metadata": {},
   "outputs": [
    {
     "data": {
      "text/plain": [
       "(0.732768177761537, 0.43811957583466266, 0.8037937007652686)"
      ]
     },
     "execution_count": 11,
     "metadata": {},
     "output_type": "execute_result"
    }
   ],
   "source": [
    "aur_combi,aur_kl,aur_rec"
   ]
  },
  {
   "cell_type": "code",
   "execution_count": 12,
   "metadata": {
    "scrolled": true
   },
   "outputs": [
    {
     "data": {
      "image/png": "[encoded data removed]",
      "text/plain": [
       "<Figure size 432x288 with 1 Axes>"
      ]
     },
     "metadata": {
      "needs_background": "light"
     },
     "output_type": "display_data"
    }
   ],
   "source": [
    "x = ['combi','kl','rec']\n",
    "height = [aur_combi,aur_kl,aur_rec]\n",
    "vae = plt.bar(x,height)\n",
    "vae[0].set_color('r')\n",
    "vae[1].set_color('y')"
   ]
  },
  {
   "cell_type": "code",
   "execution_count": 13,
   "metadata": {},
   "outputs": [],
   "source": [
    "prec_combi,recall_combi,threshold_combi = combi_pr\n",
    "fpr,tpr,thresholds = combi_aur"
   ]
  },
  {
   "cell_type": "code",
   "execution_count": 14,
   "metadata": {},
   "outputs": [
    {
     "data": {
      "text/plain": [
       "[<matplotlib.lines.Line2D at 0x7ff698042198>]"
      ]
     },
     "execution_count": 14,
     "metadata": {},
     "output_type": "execute_result"
    },
    {
     "data": {
      "image/png": "[encoded data removed]",
      "text/plain": [
       "<Figure size 432x288 with 1 Axes>"
      ]
     },
     "metadata": {
      "needs_background": "light"
     },
     "output_type": "display_data"
    }
   ],
   "source": [
    "# plt.plot(prec_combi,recall_combi)\n",
    "plt.plot(fpr,tpr)"
   ]
  },
  {
   "cell_type": "code",
   "execution_count": 15,
   "metadata": {},
   "outputs": [],
   "source": [
    "ctestNormal = cevae_ct(path,patchsize,margin)\n",
    "ctestAb = cevae_ct(ab_path,patchsize,margin)\n",
    "ctestNormalLoader = DataLoader(testNormal,batch_size=batch_size,num_workers=num_workers)\n",
    "ctestAbnormalLoader = DataLoader(testAb,batch_size=batch_size,num_workers=num_workers)"
   ]
  },
  {
   "cell_type": "code",
   "execution_count": 16,
   "metadata": {},
   "outputs": [],
   "source": [
    "cevae_model = torch.load('models/ceVAE_512_0.0001_500.pt',map_location=device)"
   ]
  },
  {
   "cell_type": "code",
   "execution_count": 17,
   "metadata": {},
   "outputs": [
    {
     "ename": "ValueError",
     "evalue": "not enough values to unpack (expected 2, got 1)",
     "output_type": "error",
     "traceback": [
      "\u001b[0;31m---------------------------------------------------------------------------\u001b[0m",
      "\u001b[0;31mValueError\u001b[0m                                Traceback (most recent call last)",
      "\u001b[0;32m<ipython-input-17-8b73995d70f0>\u001b[0m in \u001b[0;36m<module>\u001b[0;34m\u001b[0m\n\u001b[1;32m      4\u001b[0m \u001b[0mrec_loss_ce\u001b[0m \u001b[0;34m=\u001b[0m \u001b[0;34m[\u001b[0m\u001b[0;34m]\u001b[0m\u001b[0;34m\u001b[0m\u001b[0;34m\u001b[0m\u001b[0m\n\u001b[1;32m      5\u001b[0m \u001b[0;32mfor\u001b[0m \u001b[0midx\u001b[0m\u001b[0;34m,\u001b[0m \u001b[0mdata\u001b[0m \u001b[0;32min\u001b[0m \u001b[0menumerate\u001b[0m\u001b[0;34m(\u001b[0m\u001b[0mctestNormalLoader\u001b[0m\u001b[0;34m)\u001b[0m\u001b[0;34m:\u001b[0m\u001b[0;34m\u001b[0m\u001b[0;34m\u001b[0m\u001b[0m\n\u001b[0;32m----> 6\u001b[0;31m     \u001b[0minpt\u001b[0m\u001b[0;34m,\u001b[0m \u001b[0minpt_noisy\u001b[0m \u001b[0;34m=\u001b[0m \u001b[0mdata\u001b[0m\u001b[0;34m\u001b[0m\u001b[0;34m\u001b[0m\u001b[0m\n\u001b[0m\u001b[1;32m      7\u001b[0m \u001b[0;34m\u001b[0m\u001b[0m\n\u001b[1;32m      8\u001b[0m     \u001b[0minpt\u001b[0m \u001b[0;34m=\u001b[0m \u001b[0minpt\u001b[0m\u001b[0;34m.\u001b[0m\u001b[0mto\u001b[0m\u001b[0;34m(\u001b[0m\u001b[0mdevice\u001b[0m\u001b[0;34m)\u001b[0m\u001b[0;34m\u001b[0m\u001b[0;34m\u001b[0m\u001b[0m\n",
      "\u001b[0;31mValueError\u001b[0m: not enough values to unpack (expected 2, got 1)"
     ]
    }
   ],
   "source": [
    "cevae_model.eval()\n",
    "test_loss_ce = []\n",
    "kl_loss_ce = []\n",
    "rec_loss_ce = []\n",
    "for idx, data in enumerate(ctestNormalLoader):\n",
    "    inpt, inpt_noisy = data\n",
    "        \n",
    "    inpt = inpt.to(device)\n",
    "    inpt_noisy = inpt_noisy.to(device)\n",
    "    x_rec_vae, z_dist,std = cevae_model(inpt)\n",
    "    x_rec_ce,_,_ = cevae_model(inpt_noisy)\n",
    "\n",
    "        # kl_loss,kl_div,joint_nll = kl_loss_fn(x_rec_vae,inpt,z_dist,std)\n",
    "    c,kl,rec = kl_loss_fn(x_rec_vae,inpt,z_dist,std)\n",
    "        # print(kl_div,joint_nll)\n",
    "    rec_loss_vae = rec_loss_fn(x_rec_vae, inpt)\n",
    "        # pdb.set_trace()\n",
    "    loss_vae = rec_loss_vae  + c * beta  \n",
    "\n",
    "    rec_loss_ce = rec_loss_fn(x_rec_ce, inpt)\n",
    "\n",
    "    loss_ce = rec_loss_ce\n",
    "\n",
    "    loss = (1. - lamda) * loss_vae + lamda * loss_ce\n",
    "#     data = data.to(device)\n",
    "#     recon, mu,logstd = cevae_model(data)\n",
    "#     combi_loss,rec,kl = kl_loss_fn(recon,data,mu,logstd)\n",
    "#     combi_loss,rec,kl = combi_loss.detach().cpu().numpy(),rec.detach().cpu().numpy(),kl.detach().cpu().numpy()\n",
    "    test_loss_ce.append(loss)\n",
    "#     kl_loss_ce.append(kl)\n",
    "#     rec_loss_ce.append(rec)"
   ]
  },
  {
   "cell_type": "code",
   "execution_count": 32,
   "metadata": {},
   "outputs": [],
   "source": [
    "cevae_model.eval()\n",
    "test_loss_cab = []\n",
    "kl_loss_cab = []\n",
    "rec_loss_cab = []\n",
    "for idx,abdata in enumerate(ctestAbnormalLoader):\n",
    "    inpt, inpt_noisy = abdata\n",
    "\n",
    "    inpt = inpt.to(device)\n",
    "    inpt_noisy = inpt_noisy.to(device)\n",
    "    optimizer.zero_grad()\n",
    "    x_rec_vae, z_dist,std = cevae_model(inpt)\n",
    "    x_rec_ce,_,_ = cevae_model(inpt_noisy)\n",
    "\n",
    "    # kl_loss,kl_div,joint_nll = kl_loss_fn(x_rec_vae,inpt,z_dist,std)\n",
    "    ckl_loss, ckl,crec = kl_loss_fn(x_rec_vae,inpt,z_dist,std)\n",
    "    # print(kl_div,joint_nll)\n",
    "    rec_loss_vae = rec_loss_fn(x_rec_vae, inpt)\n",
    "    # pdb.set_trace()\n",
    "    closs_vae = rec_loss_vae  + ckl_loss * beta  \n",
    "\n",
    "    crec_loss_ce = rec_loss_fn(x_rec_ce, inpt)\n",
    "\n",
    "    loss_ce = rec_loss_ce\n",
    "\n",
    "    closs = (1. - lamda) * closs_vae + lamda * loss_ce\n",
    "    \n",
    "#     inpt, inpt_noisy\n",
    "#     abdata = abdata.to(device)\n",
    "#     recon_ab, mu_ab, logstd_ab = cevae_model(abdata)\n",
    "#     combi_loss_ab, rec_ab,kl_ab = kl_loss_fn(recon_ab,abdata,mu_ab,logstd_ab)\n",
    "#     combi_loss_ab, rec_ab,kl_ab = combi_loss_ab.detach().cpu().numpy(),rec_ab.detach().cpu().numpy(),kl_ab.detach().cpu().numpy()\n",
    "    test_loss_cab.append(closs)\n",
    "#     kl_loss_cab.append(kl_ab)\n",
    "#     rec_loss_cab.append(rec_ab)"
   ]
  },
  {
   "cell_type": "code",
   "execution_count": 33,
   "metadata": {},
   "outputs": [],
   "source": [
    "caur_combi,ccombi_pr,ccombi_aur = auroc_metric(test_loss_cab,test_loss_ce)\n",
    "caur_kl,ckl_pr,ckl_aur = auroc_metric(kl_loss_cab,kl_loss_ce)\n",
    "caur_rec,crec_pr,crec_aur = auroc_metric(rec_loss_cab,rec_loss_ce)"
   ]
  },
  {
   "cell_type": "code",
   "execution_count": 36,
   "metadata": {},
   "outputs": [
    {
     "data": {
      "text/plain": [
       "(0.7461071797502513, 0.4703081980000422, 0.8062293486433877)"
      ]
     },
     "execution_count": 36,
     "metadata": {},
     "output_type": "execute_result"
    }
   ],
   "source": [
    "height_ce = [caur_combi,caur_kl,caur_rec]\n",
    "caur_combi,caur_kl,caur_rec"
   ]
  },
  {
   "cell_type": "code",
   "execution_count": 37,
   "metadata": {},
   "outputs": [
    {
     "data": {
      "image/png": "[encoded data removed]",
      "text/plain": [
       "<Figure size 432x288 with 1 Axes>"
      ]
     },
     "metadata": {
      "needs_background": "light"
     },
     "output_type": "display_data"
    }
   ],
   "source": [
    "cevae = plt.bar(x,height_ce)\n",
    "cevae[0].set_color('r')\n",
    "cevae[1].set_color('y')"
   ]
  },
  {
   "cell_type": "code",
   "execution_count": null,
   "metadata": {},
   "outputs": [],
   "source": []
  }
 ],
 "metadata": {
  "kernelspec": {
   "display_name": "Python 3",
   "language": "python",
   "name": "python3"
  },
  "language_info": {
   "codemirror_mode": {
    "name": "ipython",
    "version": 3
   },
   "file_extension": ".py",
   "mimetype": "text/x-python",
   "name": "python",
   "nbconvert_exporter": "python",
   "pygments_lexer": "ipython3",
   "version": "3.6.9"
  }
 },
 "nbformat": 4,
 "nbformat_minor": 2
}
