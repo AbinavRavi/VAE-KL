{
 "cells": [
  {
   "cell_type": "code",
   "execution_count": 1,
   "metadata": {},
   "outputs": [],
   "source": [
    "import numpy as np\n",
    "import nibabel as nib\n",
    "import matplotlib.pyplot as plt\n",
    "import torch\n",
    "from torchvision import transforms\n",
    "import glob\n",
    "from dataloader import *\n",
    "from image_transforms import square_mask\n",
    "import torch\n",
    "from torch.utils.data import DataLoader\n",
    "from torch.utils.data import Dataset"
   ]
  },
  {
   "cell_type": "markdown",
   "metadata": {},
   "source": [
    "### Dataloader testing"
   ]
  },
  {
   "cell_type": "code",
   "execution_count": 2,
   "metadata": {},
   "outputs": [],
   "source": [
    "path = './data/'\n",
    "num_workers = 1\n",
    "batch_size=1\n",
    "patchsize = (64,64)\n",
    "margin = (80,80)"
   ]
  },
  {
   "cell_type": "code",
   "execution_count": 3,
   "metadata": {},
   "outputs": [],
   "source": [
    "train_data = cevae(path,patchsize=patchsize,margin=margin)\n",
    "trainLoader = DataLoader(train_data,batch_size=batch_size,num_workers=num_workers)"
   ]
  },
  {
   "cell_type": "code",
   "execution_count": 4,
   "metadata": {},
   "outputs": [],
   "source": [
    "trainIter = iter(trainLoader)\n",
    "test = trainIter.next()"
   ]
  },
  {
   "cell_type": "code",
   "execution_count": 6,
   "metadata": {},
   "outputs": [
    {
     "name": "stdout",
     "output_type": "stream",
     "text": [
      "torch.Size([1, 1, 128, 128]) torch.Size([1, 1, 128, 128])\n"
     ]
    }
   ],
   "source": [
    "for i,(data1,data2) in enumerate(trainLoader):\n",
    "    print(data1.shape,data2.shape)\n",
    "    break"
   ]
  },
  {
   "cell_type": "code",
   "execution_count": null,
   "metadata": {},
   "outputs": [],
   "source": []
  },
  {
   "cell_type": "code",
   "execution_count": null,
   "metadata": {},
   "outputs": [],
   "source": []
  },
  {
   "cell_type": "code",
   "execution_count": null,
   "metadata": {},
   "outputs": [],
   "source": [
    "def random_bbox(image, margin, patchsize):\n",
    "    \"\"\"Generate a random tlhw with configuration.\n",
    "        Args:\n",
    "        config: Config should have configuration including IMG_SHAPES, VERTICAL_MARGIN, HEIGHT, HORIZONTAL_MARGIN, WIDTH.\n",
    "        Returns:\n",
    "        tuple: (top, left, height, width)\n",
    "    \"\"\"\n",
    "    img_height = image.shape[0]\n",
    "    img_width = image.shape[1]\n",
    "    height = patchsize[0]\n",
    "    width = patchsize[1]\n",
    "    ver_margin = margin[0]\n",
    "    hor_margin = margin[1]\n",
    "    maxt = img_height - ver_margin - height\n",
    "    maxl = img_width - hor_margin - width\n",
    "    t = np.random.randint(low = ver_margin, high = maxt)\n",
    "    l = np.random.randint(low = hor_margin, high = maxl)\n",
    "    h = height\n",
    "    w = width\n",
    "    return (t, l, h, w)\n",
    "\n",
    "def bbox2mask(image, margin, patchsize, times):\n",
    "    \"\"\"Generate mask tensor from bbox.\n",
    "    Args:\n",
    "    bbox: configuration tuple, (top, left, height, width)\n",
    "    config: Config should have configuration including IMG_SHAPES,\n",
    "    MAX_DELTA_HEIGHT, MAX_DELTA_WIDTH.\n",
    "    Returns:\n",
    "    tf.Tensor: output with shape [1, H, W, 1]\n",
    "    \"\"\"\n",
    "    bboxs = []\n",
    "    for i in range(times):\n",
    "        bbox = random_bbox(image, margin, patchsize)\n",
    "        bboxs.append(bbox)\n",
    "        height = image.shape[0]\n",
    "        width = image.shape[1]\n",
    "        mask = np.zeros((height, width), np.float32)\n",
    "        for bbox in bboxs:\n",
    "            h = int(bbox[2] * 0.1) + np.random.randint(int(bbox[2] * 0.2 + 1))\n",
    "            w = int(bbox[3] * 0.1) + np.random.randint(int(bbox[3] * 0.2) + 1)\n",
    "            mask[(bbox[0] + h) : (bbox[0] + bbox[2] - h), (bbox[1] + w) : (bbox[1] + bbox[3] - w)] = 1.\n",
    "#             return image.reshape((1, ) + image.shape).astype(np.float32)\n",
    "            mask = np.expand_dims(mask,axis=2)\n",
    "            \n",
    "            mask = np.transpose(mask,(2,0,1))\n",
    "            mask = torch.from_numpy(mask)\n",
    "            return mask."
   ]
  },
  {
   "cell_type": "code",
   "execution_count": null,
   "metadata": {},
   "outputs": [],
   "source": [
    "patchsize = (64,64)\n",
    "margin = (80,80)"
   ]
  },
  {
   "cell_type": "code",
   "execution_count": null,
   "metadata": {},
   "outputs": [],
   "source": [
    "image = nib.load('./data/1_000000C7.nii.gz').get_fdata()\n",
    "images = np.transpose(image,(2,0,1))\n",
    "images = torch.from_numpy(images).float()"
   ]
  },
  {
   "cell_type": "code",
   "execution_count": null,
   "metadata": {},
   "outputs": [],
   "source": [
    "mask = bbox2mask(image,patchsize,margin,1)"
   ]
  },
  {
   "cell_type": "code",
   "execution_count": null,
   "metadata": {},
   "outputs": [],
   "source": [
    "images.shape"
   ]
  },
  {
   "cell_type": "code",
   "execution_count": null,
   "metadata": {},
   "outputs": [],
   "source": [
    "mask.float().shape"
   ]
  },
  {
   "cell_type": "code",
   "execution_count": null,
   "metadata": {},
   "outputs": [],
   "source": [
    "masked_image = torch.where(mask !=0,mask,images)"
   ]
  },
  {
   "cell_type": "code",
   "execution_count": null,
   "metadata": {},
   "outputs": [],
   "source": [
    "masked_image.shape"
   ]
  },
  {
   "cell_type": "code",
   "execution_count": null,
   "metadata": {},
   "outputs": [],
   "source": [
    "plt.imshow(masked_image[0,:,:])"
   ]
  },
  {
   "cell_type": "code",
   "execution_count": null,
   "metadata": {},
   "outputs": [],
   "source": []
  }
 ],
 "metadata": {
  "kernelspec": {
   "display_name": "Python 3",
   "language": "python",
   "name": "python3"
  },
  "language_info": {
   "codemirror_mode": {
    "name": "ipython",
    "version": 3
   },
   "file_extension": ".py",
   "mimetype": "text/x-python",
   "name": "python",
   "nbconvert_exporter": "python",
   "pygments_lexer": "ipython3",
   "version": "3.6.8"
  }
 },
 "nbformat": 4,
 "nbformat_minor": 2
}
